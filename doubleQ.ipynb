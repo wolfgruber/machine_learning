{
 "cells": [
  {
   "cell_type": "code",
   "execution_count": 1,
   "metadata": {},
   "outputs": [],
   "source": [
    "import numpy as np\n",
    "import matplotlib.pyplot as plt\n",
    "import tensorflow.keras as ks\n",
    "import tensorflow as tf\n",
    "import gym\n",
    "import time\n",
    "import datetime as dt"
   ]
  },
  {
   "cell_type": "code",
   "execution_count": 2,
   "metadata": {},
   "outputs": [],
   "source": [
    "# constants\n",
    "STORE_PATH = '~/Dokumente/Info_stuff/data'\n",
    "MAX_EPSILON = 1\n",
    "MIN_EPSILON = 0.01\n",
    "LAMBDA = 0.0005\n",
    "GAMMA = 0.95\n",
    "BATCH_SIZE = 32\n",
    "TAU = 0.08\n",
    "RANDOM_REWARD_STD = 0#1.0\n",
    "\n",
    "env = gym.make(\"CartPole-v1\")\n",
    "state_size = 4\n",
    "num_actions = env.action_space.n"
   ]
  },
  {
   "cell_type": "code",
   "execution_count": 3,
   "metadata": {},
   "outputs": [],
   "source": [
    "# functions & classes\n",
    "\n",
    "class Memory:\n",
    "    def __init__(self, max_memory):\n",
    "        self._max_memory = max_memory\n",
    "        self._samples = []\n",
    "\n",
    "    def add_sample(self, sample):\n",
    "        self._samples.append(sample)\n",
    "        if len(self._samples) > self._max_memory:\n",
    "            self._samples.pop(0)\n",
    "\n",
    "    '''def sample(self, no_samples):\n",
    "        if no_samples > len(self._samples):\n",
    "            return np.random.choice(self._samples, len(self._samples))\n",
    "        else:\n",
    "            return np.random.choice(self._samples, no_samples)'''\n",
    "    \n",
    "    def sample(self, no_samples):\n",
    "        if no_samples > len(self._samples):\n",
    "            idx = np.random.choice(np.arange(len(self._samples)), len(self._samples)).astype(int)\n",
    "        else:\n",
    "            idx = np.random.choice(np.arange(len(self._samples)), no_samples).astype(int)\n",
    "            \n",
    "        return [self._samples[i] for i in idx]\n",
    "\n",
    "    @property\n",
    "    def num_samples(self):\n",
    "        return len(self._samples)\n",
    "\n",
    "\n",
    "memory = Memory(30000)\n",
    "\n",
    "def choose_action(state, network, eps):\n",
    "    LSTM_state = None\n",
    "    if eps > np.random.random():\n",
    "        action = np.random.randint(0,2)\n",
    "    else:\n",
    "        if is_LSTM:\n",
    "            vec = network.predict(np.reshape(state, (1,1,4)))\n",
    "\n",
    "        else:\n",
    "            vec = network.predict(np.reshape(state, (1,4)))\n",
    "        action = np.argmax(vec)\n",
    "        \n",
    "    return action, LSTM_state\n",
    "\n",
    "\n",
    "def train(primary_network, memory, target_network=None):\n",
    "    if memory.num_samples < BATCH_SIZE * 3:\n",
    "        return 0\n",
    "    batch = memory.sample(BATCH_SIZE)\n",
    "    states = np.array([val[0] for val in batch])\n",
    "    actions = np.array([val[1] for val in batch])\n",
    "    rewards = np.array([val[2] for val in batch])\n",
    "    next_states = np.array([(np.zeros(state_size)\n",
    "                             if val[3] is None else val[3]) for val in batch])\n",
    "    # predict Q(s,a) given the batch of states\n",
    "    prim_qt = primary_network(states)\n",
    "    # predict Q(s',a') from the evaluation network\n",
    "    prim_qtp1 = primary_network(next_states)\n",
    "    # copy the prim_qt into the target_q tensor - we then will update one index corresponding to the max action\n",
    "    target_q = prim_qt.numpy()\n",
    "    updates = rewards\n",
    "    valid_idxs = np.array(next_states).sum(axis=1) != 0\n",
    "    batch_idxs = np.arange(BATCH_SIZE)\n",
    "    if target_network is None:\n",
    "        updates[valid_idxs] += GAMMA * np.amax(prim_qtp1.numpy()[valid_idxs, :], axis=1)\n",
    "    else:\n",
    "        prim_action_tp1 = np.argmax(prim_qtp1.numpy(), axis=1)\n",
    "        q_from_target = target_network(next_states)\n",
    "        updates[valid_idxs] += GAMMA * q_from_target.numpy()[batch_idxs[valid_idxs], prim_action_tp1[valid_idxs]]\n",
    "    target_q[batch_idxs, actions] = updates\n",
    "    loss = primary_network.train_on_batch(states, target_q)\n",
    "    if target_network is not None:\n",
    "        # update target network parameters slowly from primary network\n",
    "        for t, e in zip(target_network.trainable_variables, primary_network.trainable_variables):\n",
    "            t.assign(t * (1 - TAU) + e * TAU)\n",
    "    return loss\n",
    "\n",
    "\n",
    "def moving_average(array, n):\n",
    "    m = len(array)\n",
    "    mean = np.zeros(m)\n",
    "    k = int((n-1)/2)\n",
    "    \n",
    "    for i in range(m):\n",
    "        low = max(0, i-k)\n",
    "        up = min(m, i+k)\n",
    "        mean[i] = np.mean(array[low:up])\n",
    "        \n",
    "    return mean"
   ]
  },
  {
   "cell_type": "code",
   "execution_count": 89,
   "metadata": {},
   "outputs": [
    {
     "name": "stdout",
     "output_type": "stream",
     "text": [
      "Model: \"sequential_15\"\n",
      "_________________________________________________________________\n",
      "Layer (type)                 Output Shape              Param #   \n",
      "=================================================================\n",
      "lstm_12 (LSTM)               (None, 8)                 416       \n",
      "_________________________________________________________________\n",
      "dense_15 (Dense)             (None, 8)                 72        \n",
      "_________________________________________________________________\n",
      "dense_16 (Dense)             (None, 2)                 18        \n",
      "=================================================================\n",
      "Total params: 506\n",
      "Trainable params: 506\n",
      "Non-trainable params: 0\n",
      "_________________________________________________________________\n"
     ]
    }
   ],
   "source": [
    "# neural networks\n",
    "# literature version\n",
    "'''primary_network = ks.Sequential([\n",
    "    ks.layers.InputLayer(input_shape=(state_size)),\n",
    "    ks.layers.Dense(30, activation='relu', kernel_initializer=ks.initializers.he_normal()),\n",
    "    ks.layers.Dense(30, activation='relu', kernel_initializer=ks.initializers.he_normal()),\n",
    "    ks.layers.Dense(num_actions)\n",
    "])\n",
    "target_network = ks.Sequential([\n",
    "    ks.layers.InputLayer(input_shape=(state_size)),\n",
    "    ks.layers.Dense(30, activation='relu', kernel_initializer=ks.initializers.he_normal()),\n",
    "    ks.layers.Dense(30, activation='relu', kernel_initializer=ks.initializers.he_normal()),\n",
    "    ks.layers.Dense(num_actions)\n",
    "])\n",
    "primary_network.compile(optimizer=ks.optimizers.Adam(), loss='mse')\n",
    "#primary_network.summary()\n",
    "primary_network = ks.models.load_model('data/dQ_pendulum.h5')'''\n",
    "\n",
    "\n",
    "# simple version\n",
    "'''primary_network = ks.Sequential([\n",
    "    ks.layers.InputLayer(input_shape=(state_size)),\n",
    "    ks.layers.Dense(8, activation='tanh', kernel_initializer=ks.initializers.he_normal()),\n",
    "    ks.layers.Dense(8, activation='relu', kernel_initializer=ks.initializers.he_normal()),\n",
    "    ks.layers.Dense(num_actions)\n",
    "])\n",
    "target_network = ks.Sequential([\n",
    "    ks.layers.InputLayer(input_shape=(state_size)),\n",
    "    ks.layers.Dense(8, activation='tanh', kernel_initializer=ks.initializers.he_normal()),\n",
    "    ks.layers.Dense(8, activation='relu', kernel_initializer=ks.initializers.he_normal()),\n",
    "    ks.layers.Dense(num_actions)\n",
    "])\n",
    "primary_network.compile(optimizer=ks.optimizers.Adam(), loss='mse')\n",
    "primary_network.summary()\n",
    "#primary_network = ks.models.load_model('data/dQ_pendulum_simple.h5')'''\n",
    "\n",
    "#LSTM (Long Short Term Memory)\n",
    "primary_network = ks.Sequential()\n",
    "\n",
    "primary_network.add(ks.layers.InputLayer(input_shape=(None, state_size)))\n",
    "\n",
    "# Add a LSTM layer with 128 internal units.\n",
    "LSTM_layer = ks.layers.LSTM(8, input_shape=(None, state_size))\n",
    "primary_network.add(LSTM_layer)\n",
    "\n",
    "# Add a Dense layer with 10 units.\n",
    "primary_network.add(ks.layers.Dense(8))\n",
    "primary_network.add(ks.layers.Dense(num_actions))\n",
    "primary_network.summary()\n",
    "primary_network.compile(optimizer=ks.optimizers.Adam(), loss='mse')\n",
    "\n",
    "#primary_network = ks.models.load_model('data/dQ_pendulum_simple.h5')"
   ]
  },
  {
   "cell_type": "code",
   "execution_count": 101,
   "metadata": {
    "scrolled": false
   },
   "outputs": [
    {
     "data": {
      "text/plain": [
       "[None, None]"
      ]
     },
     "execution_count": 101,
     "metadata": {},
     "output_type": "execute_result"
    }
   ],
   "source": [
    "primary_network.predict(np.reshape(np.random.random(size=(40)), (1,10,4)))\n",
    "#primary_network.train_on_batch(np.reshape(np.random.random(size=(40)), (1,10,4)),\n",
    "#                               np.reshape(np.random.random(size=(20)), (1,10,2)))\n",
    "primary_network.layers[0].states"
   ]
  },
  {
   "cell_type": "code",
   "execution_count": 11,
   "metadata": {
    "scrolled": true
   },
   "outputs": [
    {
     "name": "stdout",
     "output_type": "stream",
     "text": [
      "Episode: 999, Reward: 201, avg loss: 0.025, eps: 0.010\r"
     ]
    }
   ],
   "source": [
    "# running it\n",
    "num_episodes = 1000\n",
    "eps = MAX_EPSILON\n",
    "render = False\n",
    "train_writer = tf.summary.create_file_writer(STORE_PATH + f\"/DoubleQ_{dt.datetime.now().strftime('%d%m%Y%H%M')}\")\n",
    "double_q = True\n",
    "is_LSTM = True\n",
    "steps = 0\n",
    "reward_list = []\n",
    "for i in range(num_episodes):\n",
    "    state = env.reset()\n",
    "    cnt = 0\n",
    "    avg_loss = 0\n",
    "    while True:\n",
    "        if render:\n",
    "            env.render()\n",
    "        action, LSTM_state = choose_action(state, primary_network, eps)\n",
    "        next_state, reward, done, info = env.step(action)\n",
    "        reward = np.random.normal(1.0, RANDOM_REWARD_STD)\n",
    "        if done:\n",
    "            next_state = None\n",
    "        # store in memory\n",
    "        memory.add_sample((state, action, reward, next_state))\n",
    "\n",
    "        loss = train(primary_network, memory, target_network if double_q else None)\n",
    "        avg_loss += loss\n",
    "\n",
    "        state = next_state\n",
    "\n",
    "        # exponentially decay the eps value\n",
    "        steps += 1\n",
    "        eps = MIN_EPSILON + (MAX_EPSILON - MIN_EPSILON) * np.exp(-LAMBDA * steps)\n",
    "\n",
    "        if done:\n",
    "            reward_list.append(cnt)\n",
    "            avg_loss /= cnt\n",
    "            print(f\"Episode: {i}, Reward: {cnt}, avg loss: {avg_loss:.3f}, eps: {eps:.3f}\", end='\\r')\n",
    "            with train_writer.as_default():\n",
    "                tf.summary.scalar('reward', cnt, step=i)\n",
    "                tf.summary.scalar('avg loss', avg_loss, step=i)\n",
    "            break\n",
    "\n",
    "        cnt += 1"
   ]
  },
  {
   "cell_type": "code",
   "execution_count": 12,
   "metadata": {},
   "outputs": [
    {
     "data": {
      "image/png": "[encoded data removed]",
      "text/plain": [
       "<Figure size 432x288 with 1 Axes>"
      ]
     },
     "metadata": {
      "needs_background": "light"
     },
     "output_type": "display_data"
    },
    {
     "name": "stdout",
     "output_type": "stream",
     "text": [
      "Model: \"sequential_2\"\n",
      "_________________________________________________________________\n",
      "Layer (type)                 Output Shape              Param #   \n",
      "=================================================================\n",
      "dense_6 (Dense)              (None, 8)                 40        \n",
      "_________________________________________________________________\n",
      "dense_7 (Dense)              (None, 8)                 72        \n",
      "_________________________________________________________________\n",
      "dense_8 (Dense)              (None, 2)                 18        \n",
      "=================================================================\n",
      "Total params: 130\n",
      "Trainable params: 130\n",
      "Non-trainable params: 0\n",
      "_________________________________________________________________\n"
     ]
    }
   ],
   "source": [
    "#primary_network.save('data/dQ_pendulum_simple.h5')\n",
    "\n",
    "plt.plot(reward_list)\n",
    "plt.plot(moving_average(reward_list, 55))\n",
    "plt.grid()\n",
    "plt.ylabel('reward')\n",
    "plt.xlabel('epoch')\n",
    "plt.savefig('data/doubleQ_simple_tanh.jpg', dpi=150)\n",
    "plt.show()\n",
    "\n",
    "primary_network.summary()"
   ]
  },
  {
   "cell_type": "code",
   "execution_count": 13,
   "metadata": {},
   "outputs": [
    {
     "name": "stdout",
     "output_type": "stream",
     "text": [
      "211\n"
     ]
    }
   ],
   "source": [
    "# playground\n",
    "observation = env.reset()\n",
    "observation = np.reshape(observation, (1,4))\n",
    "done = False\n",
    "i = 0\n",
    "eps = 0.0\n",
    "\n",
    "#while i < 20:\n",
    "while not done:\n",
    "    #pred = primary_network.predict(observation)\n",
    "    #print(pred)\n",
    "    #action = np.argmax(pred)\n",
    "    #print(action)\n",
    "    #action = int(input())\n",
    "    \n",
    "    action = choose_action(observation, primary_network, eps)\n",
    "    \n",
    "    observation_new, reward, done, info = env.step(action)\n",
    "    observation = np.array([observation_new])\n",
    "    env.render()\n",
    "    i = i + 1\n",
    "    \n",
    "env.close()\n",
    "print(i)"
   ]
  },
  {
   "cell_type": "code",
   "execution_count": 35,
   "metadata": {},
   "outputs": [
    {
     "name": "stdout",
     "output_type": "stream",
     "text": [
      "Episode: 49, Reward: 78, eps: 0.6002\r"
     ]
    }
   ],
   "source": [
    "N_eps = 50\n",
    "N_stat = 15\n",
    "\n",
    "eps = np.linspace(0, 0.6, N_eps)\n",
    "re_eps = np.zeros(N_eps)\n",
    "\n",
    "for i in range(N_eps):\n",
    "    for j in range(N_stat):\n",
    "        observation = env.reset()\n",
    "        done = False\n",
    "        cnt = 0\n",
    "        while not done:\n",
    "            action = choose_action(observation, primary_network, eps[i])\n",
    "        \n",
    "            observation_new, reward, done, info = env.step(action)\n",
    "            \n",
    "            if done:\n",
    "                observation_new = None\n",
    "            # store in memory\n",
    "            memory.add_sample((observation, action, reward, observation_new))\n",
    "\n",
    "            #env.render()\n",
    "            cnt += 1\n",
    "            observation = observation_new\n",
    "            \n",
    "        loss = train(primary_network, memory, target_network if double_q else None)\n",
    "        \n",
    "        re_eps[i] += cnt\n",
    "        \n",
    "    print(f\"Episode: {i}, Reward: {re_eps[i]/N_stat}, eps: {eps[i]:.2f}\", end='\\r')\n",
    "    \n",
    "re_eps /= N_stat"
   ]
  },
  {
   "cell_type": "code",
   "execution_count": 37,
   "metadata": {},
   "outputs": [
    {
     "data": {
      "text/plain": [
       "[<matplotlib.lines.Line2D at 0x7f542308d4c0>]"
      ]
     },
     "execution_count": 37,
     "metadata": {},
     "output_type": "execute_result"
    },
    {
     "data": {
      "image/png": "[encoded data removed]",
      "text/plain": [
       "<Figure size 432x288 with 1 Axes>"
      ]
     },
     "metadata": {
      "needs_background": "light"
     },
     "output_type": "display_data"
    }
   ],
   "source": [
    "plt.plot(eps, re_eps)"
   ]
  }
 ],
 "metadata": {
  "kernelspec": {
   "display_name": "Python 3",
   "language": "python",
   "name": "python3"
  },
  "language_info": {
   "codemirror_mode": {
    "name": "ipython",
    "version": 3
   },
   "file_extension": ".py",
   "mimetype": "text/x-python",
   "name": "python",
   "nbconvert_exporter": "python",
   "pygments_lexer": "ipython3",
   "version": "3.8.5"
  }
 },
 "nbformat": 4,
 "nbformat_minor": 4
}
